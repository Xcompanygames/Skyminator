{
 "cells": [
  {
   "cell_type": "markdown",
   "id": "34c38730",
   "metadata": {},
   "source": [
    "# Imports"
   ]
  },
  {
   "cell_type": "code",
   "execution_count": 1,
   "id": "16826fa2",
   "metadata": {},
   "outputs": [],
   "source": [
    "# import some common libraries\n",
    "import numpy as np\n",
    "import os, cv2\n",
    "import torch, torchvision\n",
    "from zipfile import ZipFile\n",
    "from PIL import Image\n",
    "import os, sys\n",
    "\n",
    "# import some common detectron2 utilities\n",
    "from detectron2 import model_zoo\n",
    "from detectron2.engine import DefaultPredictor\n",
    "from detectron2.config import get_cfg\n",
    "\n"
   ]
  },
  {
   "cell_type": "markdown",
   "id": "f622d7db",
   "metadata": {},
   "source": [
    "# Model setup\n"
   ]
  },
  {
   "cell_type": "code",
   "execution_count": 2,
   "id": "c1ef07a9",
   "metadata": {},
   "outputs": [
    {
     "name": "stderr",
     "output_type": "stream",
     "text": [
      "The checkpoint state_dict contains keys that are not used by the model:\n",
      "  \u001b[35mproposal_generator.anchor_generator.cell_anchors.{0, 1, 2, 3, 4}\u001b[0m\n"
     ]
    }
   ],
   "source": [
    "# Set config \n",
    "\n",
    "cfg = get_cfg()\n",
    "# add project-specific config (e.g., TensorMask) here if you're not running a model in detectron2's core library\n",
    "cfg.merge_from_file(model_zoo.get_config_file(\"COCO-PanopticSegmentation/panoptic_fpn_R_101_3x.yaml\"))\n",
    "cfg.MODEL.ROI_HEADS.SCORE_THRESH_TEST = 0.2  # set threshold for this model\n",
    "# Find a model from detectron2's model zoo\n",
    "cfg.MODEL.WEIGHTS = model_zoo.get_checkpoint_url(\"COCO-PanopticSegmentation/panoptic_fpn_R_101_3x.yaml\")\n",
    "# Create Predictor\n",
    "\n",
    "predictor = DefaultPredictor(cfg)"
   ]
  },
  {
   "cell_type": "markdown",
   "id": "c21a1c52",
   "metadata": {},
   "source": [
    "# Loading our data\n"
   ]
  },
  {
   "cell_type": "code",
   "execution_count": 3,
   "id": "60f4352c",
   "metadata": {},
   "outputs": [],
   "source": [
    "# Reading the zip file \n",
    "\n",
    "resp = \"val2017.zip\"\n",
    "\n",
    "archive = ZipFile((resp))\n",
    "\n",
    "count = 0  # Setting a number to limit the number of images we are going to read\n",
    "\n",
    "# Creating a directory that contains images with sky removed\n",
    "\n",
    "if not os.path.isdir( 'sky_treminated_images' ) :\n",
    "    os.mkdir( 'sky_treminated_images' )  # make sure the directory exists\n"
   ]
  },
  {
   "cell_type": "markdown",
   "id": "4a4eea89",
   "metadata": {},
   "source": [
    "# Starting iteration on each image, each time an image with a sky is selected, we will DESTROY the sky in it"
   ]
  },
  {
   "cell_type": "code",
   "execution_count": null,
   "id": "ab46cfe8",
   "metadata": {
    "scrolled": false
   },
   "outputs": [
    {
     "name": "stderr",
     "output_type": "stream",
     "text": [
      "c:\\users\\oriel\\detectron2\\detectron2\\modeling\\roi_heads\\fast_rcnn.py:154: UserWarning: This overload of nonzero is deprecated:\n",
      "\tnonzero()\n",
      "Consider using one of the following signatures instead:\n",
      "\tnonzero(*, bool as_tuple) (Triggered internally at  ..\\torch\\csrc\\utils\\python_arg_parser.cpp:882.)\n",
      "  filter_inds = filter_mask.nonzero()\n"
     ]
    }
   ],
   "source": [
    "# Iterating through the images, loading the using the existing model to make a prediction\n",
    "# And than showing the image\n",
    "\n",
    "for line in archive.namelist():\n",
    "    if line != 'val2017/':\n",
    "\n",
    "        #We will open the image inside the zip file, load it\n",
    "        image_in_zip = archive.open(line)\n",
    "        \n",
    "        # We will use CV2 to decode the image\n",
    "        im = cv2.imread(line)\n",
    "\n",
    "        # Now we will use the model's predictor (pre-trained)\n",
    "        panoptic_seg, segments_info = predictor(im)[\"panoptic_seg\"]\n",
    "        \n",
    "        # We'll set the segments_info containing a dict to list, to make it easier to iterate it\n",
    "        seg_list = list(segments_info)\n",
    "        \n",
    "        # i and j will be the sizes of our image shape        \n",
    "        i = im.shape[1]\n",
    "        j = im.shape[0]\n",
    "\n",
    "        # now we will iterate on our seg_list, until we will meet a sky\n",
    "        # Detectron2 will label the sky inside the dictinaries inside out seg_list\n",
    "        # category_id = 40 is a sky, also, we want to know if the object IS NOT a thing (isthing = False)\n",
    "        # isthing says the object is NOT a background if it sets to True\n",
    "        sky_destroyed = False\n",
    "        labels_tensor_to_numpy = panoptic_seg.cpu().numpy()\n",
    "        for indx in range(len(seg_list)):\n",
    "            sky_index = None\n",
    "            if seg_list[indx]['isthing'] == False and seg_list[indx]['category_id'] == 40:\n",
    "                sky_index = indx\n",
    "            # If sky_index is None, we will not initiate the loop to terminate sky\n",
    "            if sky_index != None:\n",
    "                sky_destroyed = True\n",
    "                for j1 in range(j):\n",
    "                    for i1 in range(i):\n",
    "                        if(labels_tensor_to_numpy[j1][i1] == sky_index+1):\n",
    "                            #We will set the colour to 255, that is white (255,255,255)\n",
    "                            im[j1,i1] = 255                         \n",
    "\n",
    "        if sky_destroyed == True:\n",
    "            \n",
    "            cv2.imwrite(f'./sky_treminated_images/{line[8:-4]}.png',im)\n",
    "\n"
   ]
  },
  {
   "cell_type": "code",
   "execution_count": null,
   "id": "093d16dc",
   "metadata": {},
   "outputs": [],
   "source": []
  },
  {
   "cell_type": "code",
   "execution_count": null,
   "id": "f833d1c3",
   "metadata": {},
   "outputs": [],
   "source": []
  },
  {
   "cell_type": "code",
   "execution_count": null,
   "id": "6e0fc4f7",
   "metadata": {},
   "outputs": [],
   "source": []
  }
 ],
 "metadata": {
  "kernelspec": {
   "display_name": "Python 3 (ipykernel)",
   "language": "python",
   "name": "python3"
  },
  "language_info": {
   "codemirror_mode": {
    "name": "ipython",
    "version": 3
   },
   "file_extension": ".py",
   "mimetype": "text/x-python",
   "name": "python",
   "nbconvert_exporter": "python",
   "pygments_lexer": "ipython3",
   "version": "3.8.10"
  }
 },
 "nbformat": 4,
 "nbformat_minor": 5
}
